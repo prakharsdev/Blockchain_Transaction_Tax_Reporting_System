{
 "cells": [
  {
   "cell_type": "code",
   "execution_count": null,
   "metadata": {},
   "outputs": [],
   "source": [
    "# Import necessary libraries\n",
    "import json\n",
    "from tax_calculation.tax_rules import calculate_tax_for_transaction"
   ]
  },
  {
   "cell_type": "code",
   "execution_count": null,
   "metadata": {},
   "outputs": [],
   "source": [
    "# Load the transformed dataset\n",
    "with open('/path/to/your/data/processed/blockchain_data_transformed.json', 'r') as f:\n",
    "    data = json.load(f)"
   ]
  },
  {
   "cell_type": "code",
   "execution_count": null,
   "metadata": {},
   "outputs": [],
   "source": [
    "# Function to calculate tax for each transaction\n",
    "def calculate_tax(data):\n",
    "    tax_data = []\n",
    "    for tx in data:\n",
    "        tax = calculate_tax_for_transaction(tx['volume_24h'], tx['price_24h'])\n",
    "        tax_data.append({\n",
    "            'symbol': tx['symbol'],\n",
    "            'total_value': tx['volume_24h'] * tx['price_24h'],\n",
    "            'estimated_tax': tax,\n",
    "        })\n",
    "    return tax_data"
   ]
  },
  {
   "cell_type": "code",
   "execution_count": null,
   "metadata": {},
   "outputs": [],
   "source": [
    "# Calculate tax for the dataset\n",
    "tax_data = calculate_tax(data)\n",
    "\n",
    "# Convert to DataFrame for analysis\n",
    "df = pd.DataFrame(tax_data)\n",
    "\n",
    "# Display the tax data\n",
    "print(df.head())"
   ]
  },
  {
   "cell_type": "code",
   "execution_count": null,
   "metadata": {},
   "outputs": [],
   "source": [
    "# Visualize the tax data\n",
    "plt.figure(figsize=(12, 6))\n",
    "sns.barplot(data=df, x='symbol', y='estimated_tax')\n",
    "plt.title('Estimated Tax by Symbol')\n",
    "plt.xlabel('Symbol')\n",
    "plt.ylabel('Estimated Tax')\n",
    "plt.show()"
   ]
  },
  {
   "cell_type": "code",
   "execution_count": null,
   "metadata": {},
   "outputs": [],
   "source": [
    "# Save the tax calculation results\n",
    "df.to_csv('/path/to/your/reports/tax_calculation_results.csv', index=False)"
   ]
  }
 ],
 "metadata": {
  "language_info": {
   "name": "python"
  }
 },
 "nbformat": 4,
 "nbformat_minor": 2
}
